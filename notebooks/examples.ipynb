{
 "cells": [
  {
   "cell_type": "code",
   "execution_count": 1,
   "id": "initial_id",
   "metadata": {
    "ExecuteTime": {
     "end_time": "2023-12-06T18:04:34.903773821Z",
     "start_time": "2023-12-06T18:04:32.764756560Z"
    }
   },
   "outputs": [
    {
     "name": "stdout",
     "output_type": "stream",
     "text": [
      "Requirement already satisfied: datasets in /home/ms/.virtualenvs/ohmt_testing/lib/python3.11/site-packages (2.15.0)\n",
      "Requirement already satisfied: numpy>=1.17 in /home/ms/.virtualenvs/ohmt_testing/lib/python3.11/site-packages (from datasets) (1.23.5)\n",
      "Requirement already satisfied: pyarrow>=8.0.0 in /home/ms/.virtualenvs/ohmt_testing/lib/python3.11/site-packages (from datasets) (14.0.1)\n",
      "Requirement already satisfied: pyarrow-hotfix in /home/ms/.virtualenvs/ohmt_testing/lib/python3.11/site-packages (from datasets) (0.6)\n",
      "Requirement already satisfied: dill<0.3.8,>=0.3.0 in /home/ms/.virtualenvs/ohmt_testing/lib/python3.11/site-packages (from datasets) (0.3.7)\n",
      "Requirement already satisfied: pandas in /home/ms/.virtualenvs/ohmt_testing/lib/python3.11/site-packages (from datasets) (2.1.3)\n",
      "Requirement already satisfied: requests>=2.19.0 in /home/ms/.virtualenvs/ohmt_testing/lib/python3.11/site-packages (from datasets) (2.31.0)\n",
      "Requirement already satisfied: tqdm>=4.62.1 in /home/ms/.virtualenvs/ohmt_testing/lib/python3.11/site-packages (from datasets) (4.66.1)\n",
      "Requirement already satisfied: xxhash in /home/ms/.virtualenvs/ohmt_testing/lib/python3.11/site-packages (from datasets) (3.4.1)\n",
      "Requirement already satisfied: multiprocess in /home/ms/.virtualenvs/ohmt_testing/lib/python3.11/site-packages (from datasets) (0.70.15)\n",
      "Requirement already satisfied: fsspec<=2023.10.0,>=2023.1.0 in /home/ms/.virtualenvs/ohmt_testing/lib/python3.11/site-packages (from fsspec[http]<=2023.10.0,>=2023.1.0->datasets) (2023.10.0)\n",
      "Requirement already satisfied: aiohttp in /home/ms/.virtualenvs/ohmt_testing/lib/python3.11/site-packages (from datasets) (3.9.1)\n",
      "Requirement already satisfied: huggingface-hub>=0.18.0 in /home/ms/.virtualenvs/ohmt_testing/lib/python3.11/site-packages (from datasets) (0.19.4)\n",
      "Requirement already satisfied: packaging in /home/ms/.virtualenvs/ohmt_testing/lib/python3.11/site-packages (from datasets) (22.0)\n",
      "Requirement already satisfied: pyyaml>=5.1 in /home/ms/.virtualenvs/ohmt_testing/lib/python3.11/site-packages (from datasets) (6.0.1)\n",
      "Requirement already satisfied: attrs>=17.3.0 in /home/ms/.virtualenvs/ohmt_testing/lib/python3.11/site-packages (from aiohttp->datasets) (23.1.0)\n",
      "Requirement already satisfied: multidict<7.0,>=4.5 in /home/ms/.virtualenvs/ohmt_testing/lib/python3.11/site-packages (from aiohttp->datasets) (6.0.4)\n",
      "Requirement already satisfied: yarl<2.0,>=1.0 in /home/ms/.virtualenvs/ohmt_testing/lib/python3.11/site-packages (from aiohttp->datasets) (1.9.4)\n",
      "Requirement already satisfied: frozenlist>=1.1.1 in /home/ms/.virtualenvs/ohmt_testing/lib/python3.11/site-packages (from aiohttp->datasets) (1.4.0)\n",
      "Requirement already satisfied: aiosignal>=1.1.2 in /home/ms/.virtualenvs/ohmt_testing/lib/python3.11/site-packages (from aiohttp->datasets) (1.3.1)\n",
      "Requirement already satisfied: filelock in /home/ms/.virtualenvs/ohmt_testing/lib/python3.11/site-packages (from huggingface-hub>=0.18.0->datasets) (3.13.1)\n",
      "Requirement already satisfied: typing-extensions>=3.7.4.3 in /home/ms/.virtualenvs/ohmt_testing/lib/python3.11/site-packages (from huggingface-hub>=0.18.0->datasets) (4.8.0)\n",
      "Requirement already satisfied: charset-normalizer<4,>=2 in /home/ms/.virtualenvs/ohmt_testing/lib/python3.11/site-packages (from requests>=2.19.0->datasets) (3.3.2)\n",
      "Requirement already satisfied: idna<4,>=2.5 in /home/ms/.virtualenvs/ohmt_testing/lib/python3.11/site-packages (from requests>=2.19.0->datasets) (3.6)\n",
      "Requirement already satisfied: urllib3<3,>=1.21.1 in /home/ms/.virtualenvs/ohmt_testing/lib/python3.11/site-packages (from requests>=2.19.0->datasets) (2.1.0)\n",
      "Requirement already satisfied: certifi>=2017.4.17 in /home/ms/.virtualenvs/ohmt_testing/lib/python3.11/site-packages (from requests>=2.19.0->datasets) (2023.11.17)\n",
      "Requirement already satisfied: python-dateutil>=2.8.2 in /home/ms/.virtualenvs/ohmt_testing/lib/python3.11/site-packages (from pandas->datasets) (2.8.2)\n",
      "Requirement already satisfied: pytz>=2020.1 in /home/ms/.virtualenvs/ohmt_testing/lib/python3.11/site-packages (from pandas->datasets) (2023.3.post1)\n",
      "Requirement already satisfied: tzdata>=2022.1 in /home/ms/.virtualenvs/ohmt_testing/lib/python3.11/site-packages (from pandas->datasets) (2023.3)\n",
      "Requirement already satisfied: six>=1.5 in /home/ms/.virtualenvs/ohmt_testing/lib/python3.11/site-packages (from python-dateutil>=2.8.2->pandas->datasets) (1.16.0)\n"
     ]
    }
   ],
   "source": [
    "!pip install datasets\n",
    "\n",
    "%load_ext autoreload\n",
    "%autoreload 2"
   ]
  },
  {
   "cell_type": "code",
   "execution_count": 2,
   "id": "3cbfdfb36f603756",
   "metadata": {
    "ExecuteTime": {
     "end_time": "2023-12-06T18:05:11.347454099Z",
     "start_time": "2023-12-06T18:05:08.598084670Z"
    },
    "collapsed": false,
    "jupyter": {
     "outputs_hidden": false
    }
   },
   "outputs": [
    {
     "name": "stderr",
     "output_type": "stream",
     "text": [
      "/home/ms/.virtualenvs/ohmt_testing/lib/python3.11/site-packages/tqdm/auto.py:21: TqdmWarning: IProgress not found. Please update jupyter and ipywidgets. See https://ipywidgets.readthedocs.io/en/stable/user_install.html\n",
      "  from .autonotebook import tqdm as notebook_tqdm\n"
     ]
    },
    {
     "data": {
      "text/html": [
       "<div>\n",
       "<style scoped>\n",
       "    .dataframe tbody tr th:only-of-type {\n",
       "        vertical-align: middle;\n",
       "    }\n",
       "\n",
       "    .dataframe tbody tr th {\n",
       "        vertical-align: top;\n",
       "    }\n",
       "\n",
       "    .dataframe thead th {\n",
       "        text-align: right;\n",
       "    }\n",
       "</style>\n",
       "<table border=\"1\" class=\"dataframe\">\n",
       "  <thead>\n",
       "    <tr style=\"text-align: right;\">\n",
       "      <th></th>\n",
       "      <th>age</th>\n",
       "      <th>capital_gain</th>\n",
       "      <th>capital_loss</th>\n",
       "      <th>education</th>\n",
       "      <th>final_weight</th>\n",
       "      <th>hours_worked_per_week</th>\n",
       "      <th>marital_status</th>\n",
       "      <th>native_country</th>\n",
       "      <th>occupation</th>\n",
       "      <th>race</th>\n",
       "      <th>relationship</th>\n",
       "      <th>is_male</th>\n",
       "      <th>workclass</th>\n",
       "      <th>over_threshold</th>\n",
       "    </tr>\n",
       "  </thead>\n",
       "  <tbody>\n",
       "    <tr>\n",
       "      <th>0</th>\n",
       "      <td>43</td>\n",
       "      <td>0.0</td>\n",
       "      <td>0.0</td>\n",
       "      <td>10</td>\n",
       "      <td>34278</td>\n",
       "      <td>35</td>\n",
       "      <td>Married-civ-spouse</td>\n",
       "      <td>United-States</td>\n",
       "      <td>Sales</td>\n",
       "      <td>White</td>\n",
       "      <td>Husband</td>\n",
       "      <td>True</td>\n",
       "      <td>Private</td>\n",
       "      <td>0</td>\n",
       "    </tr>\n",
       "    <tr>\n",
       "      <th>1</th>\n",
       "      <td>23</td>\n",
       "      <td>0.0</td>\n",
       "      <td>0.0</td>\n",
       "      <td>3</td>\n",
       "      <td>244698</td>\n",
       "      <td>35</td>\n",
       "      <td>Never-married</td>\n",
       "      <td>Mexico</td>\n",
       "      <td>Farming-fishing</td>\n",
       "      <td>White</td>\n",
       "      <td>Other-relative</td>\n",
       "      <td>True</td>\n",
       "      <td>Private</td>\n",
       "      <td>0</td>\n",
       "    </tr>\n",
       "    <tr>\n",
       "      <th>2</th>\n",
       "      <td>39</td>\n",
       "      <td>0.0</td>\n",
       "      <td>0.0</td>\n",
       "      <td>10</td>\n",
       "      <td>118286</td>\n",
       "      <td>40</td>\n",
       "      <td>Married-civ-spouse</td>\n",
       "      <td>United-States</td>\n",
       "      <td>Sales</td>\n",
       "      <td>Black</td>\n",
       "      <td>Husband</td>\n",
       "      <td>True</td>\n",
       "      <td>Private</td>\n",
       "      <td>0</td>\n",
       "    </tr>\n",
       "    <tr>\n",
       "      <th>3</th>\n",
       "      <td>35</td>\n",
       "      <td>0.0</td>\n",
       "      <td>0.0</td>\n",
       "      <td>9</td>\n",
       "      <td>126675</td>\n",
       "      <td>46</td>\n",
       "      <td>Divorced</td>\n",
       "      <td>?</td>\n",
       "      <td>Craft-repair</td>\n",
       "      <td>White</td>\n",
       "      <td>Not-in-family</td>\n",
       "      <td>True</td>\n",
       "      <td>Private</td>\n",
       "      <td>0</td>\n",
       "    </tr>\n",
       "    <tr>\n",
       "      <th>4</th>\n",
       "      <td>66</td>\n",
       "      <td>0.0</td>\n",
       "      <td>0.0</td>\n",
       "      <td>13</td>\n",
       "      <td>28367</td>\n",
       "      <td>99</td>\n",
       "      <td>Married-civ-spouse</td>\n",
       "      <td>United-States</td>\n",
       "      <td>Priv-house-serv</td>\n",
       "      <td>White</td>\n",
       "      <td>Other-relative</td>\n",
       "      <td>True</td>\n",
       "      <td>Private</td>\n",
       "      <td>0</td>\n",
       "    </tr>\n",
       "  </tbody>\n",
       "</table>\n",
       "</div>"
      ],
      "text/plain": [
       "   age  capital_gain  capital_loss  education  final_weight  \\\n",
       "0   43           0.0           0.0         10         34278   \n",
       "1   23           0.0           0.0          3        244698   \n",
       "2   39           0.0           0.0         10        118286   \n",
       "3   35           0.0           0.0          9        126675   \n",
       "4   66           0.0           0.0         13         28367   \n",
       "\n",
       "   hours_worked_per_week      marital_status native_country       occupation  \\\n",
       "0                     35  Married-civ-spouse  United-States            Sales   \n",
       "1                     35       Never-married         Mexico  Farming-fishing   \n",
       "2                     40  Married-civ-spouse  United-States            Sales   \n",
       "3                     46            Divorced              ?     Craft-repair   \n",
       "4                     99  Married-civ-spouse  United-States  Priv-house-serv   \n",
       "\n",
       "    race    relationship  is_male workclass  over_threshold  \n",
       "0  White         Husband     True   Private               0  \n",
       "1  White  Other-relative     True   Private               0  \n",
       "2  Black         Husband     True   Private               0  \n",
       "3  White   Not-in-family     True   Private               0  \n",
       "4  White  Other-relative     True   Private               0  "
      ]
     },
     "execution_count": 2,
     "metadata": {},
     "output_type": "execute_result"
    }
   ],
   "source": [
    "from datasets import load_dataset\n",
    "from sklearn.model_selection import train_test_split\n",
    "\n",
    "adult_dataset_train = load_dataset(\"mstz/adult\", \"income\")[\"train\"].to_pandas()\n",
    "adult_dataset_test = load_dataset(\"mstz/adult\", \"income\")[\"test\"].to_pandas()\n",
    "\n",
    "adult_dataset_train.head()"
   ]
  },
  {
   "cell_type": "code",
   "execution_count": 3,
   "id": "920bf5e3467bebe9",
   "metadata": {
    "ExecuteTime": {
     "end_time": "2023-12-06T18:05:11.665862256Z",
     "start_time": "2023-12-06T18:05:11.550255145Z"
    },
    "collapsed": false,
    "jupyter": {
     "outputs_hidden": false
    }
   },
   "outputs": [],
   "source": [
    "# Preprocessing\n",
    "# filtering categorical features out, currently not directly handled by most tree induction algorithms\n",
    "adult_dataset_train = adult_dataset_train.select_dtypes(include=\"number\")\n",
    "adult_dataset_test = adult_dataset_test.select_dtypes(include=\"number\")\n",
    "target_feature = \"over_threshold\"\n",
    "\n",
    "train_features, train_labels = adult_dataset_train.values[:, :-1], adult_dataset_train.values[:, -1].astype(int)\n",
    "train_features, validation_features, train_labels, validation_labels = train_test_split(train_features, train_labels, test_size=.2,\n",
    "                                                                                        stratify=train_labels)\n",
    "test_features, test_labels = adult_dataset_test.values[:, :-1], adult_dataset_test.values[:, -1].astype(int)"
   ]
  },
  {
   "cell_type": "markdown",
   "id": "897c2ac100e07e10",
   "metadata": {
    "collapsed": false,
    "jupyter": {
     "outputs_hidden": false
    }
   },
   "source": [
    "## Tree induction"
   ]
  },
  {
   "cell_type": "code",
   "execution_count": 4,
   "id": "ce801a57f16ec2f7",
   "metadata": {
    "ExecuteTime": {
     "end_time": "2023-12-06T18:08:02.004849017Z",
     "start_time": "2023-12-06T18:07:51.134504352Z"
    },
    "collapsed": false,
    "jupyter": {
     "outputs_hidden": false
    }
   },
   "outputs": [
    {
     "name": "stderr",
     "output_type": "stream",
     "text": [
      "/home/ms/.virtualenvs/ohmt_testing/lib/python3.11/site-packages/sklearn/svm/_base.py:1244: ConvergenceWarning: Liblinear failed to converge, increase the number of iterations.\n",
      "  warnings.warn(\n",
      "/home/ms/.virtualenvs/ohmt_testing/lib/python3.11/site-packages/sklearn/svm/_base.py:1244: ConvergenceWarning: Liblinear failed to converge, increase the number of iterations.\n",
      "  warnings.warn(\n",
      "/home/ms/.virtualenvs/ohmt_testing/lib/python3.11/site-packages/sklearn/svm/_base.py:1244: ConvergenceWarning: Liblinear failed to converge, increase the number of iterations.\n",
      "  warnings.warn(\n"
     ]
    }
   ],
   "source": [
    "from ohmt.trees.multivariate.omnivariate import OmnivariateDT\n",
    "from ohmt.trees.splits.evaluation import gini\n",
    "\n",
    "df = load_dataset(\"mstz/adult\", \"income\")[\"train\"].to_pandas()\n",
    "df_test = load_dataset(\"mstz/adult\", \"income\")[\"test\"].to_pandas()\n",
    "\n",
    "tree = OmnivariateDT()\n",
    "tree = tree.fit(train_features, train_labels, max_depth=8, min_eps=0.000000000000001, min_samples=10,\n",
    "                node_fitness_function=gini)"
   ]
  },
  {
   "cell_type": "markdown",
   "id": "d6b4f8723131da81",
   "metadata": {
    "collapsed": false,
    "jupyter": {
     "outputs_hidden": false
    }
   },
   "source": [
    "Decision trees offer several fields for directly access the tree structure and parameters: "
   ]
  },
  {
   "cell_type": "code",
   "execution_count": 5,
   "id": "4ff31978043d4521",
   "metadata": {
    "ExecuteTime": {
     "end_time": "2023-12-06T18:08:02.033111523Z",
     "start_time": "2023-12-06T18:08:02.010749787Z"
    },
    "collapsed": false,
    "jupyter": {
     "outputs_hidden": false
    }
   },
   "outputs": [
    {
     "data": {
      "text/plain": [
       "{1: coefficients: [ 0. -1.  0.  0.  0.  0.]\n",
       " bound: -5119.0),\n",
       " 2: coefficients: [ 0. -1.  0.  0.  0.  0.]\n",
       " bound: -7073.5),\n",
       " 4: coefficients: [-1.  0.  0.  0.  0.  0.]\n",
       " bound: -20.5),\n",
       " 8: coefficients: [ 0.  0.  0.  0. -1.  0.]\n",
       " bound: -25206.0),\n",
       " 16: coefficients: [-1.  0.  0.  0.  0.  0.]\n",
       " bound: -86.5),\n",
       " 32: [0.3333333333333333, 0.6666666666666666],\n",
       " 33: coefficients: [ 0.  0.  0.  0.  0. -1.]\n",
       " bound: -15.5),\n",
       " 66: coefficients: [ 0. -1.  0.  0.  0.  0.]\n",
       " bound: -7565.5),\n",
       " 132: [0.00202020202020202, 0.997979797979798],\n",
       " 133: [0.997979797979798, 0.00202020202020202],\n",
       " 67: coefficients: [-1.47006705e-03  6.72471409e-05  0.00000000e+00  1.97983156e-01\n",
       "   1.71258786e-05 -3.10745072e-01]\n",
       " bound: [0.]),\n",
       " 134: [1.0, 0.0],\n",
       " 135: [0.0, 1.0],\n",
       " 17: coefficients: [ 0.          0.00234971  0.          0.56637576 -0.00106625  0.        ]\n",
       " bound: [0.]),\n",
       " 34: [1.0, 0.0],\n",
       " 35: [0.0, 1.0],\n",
       " 9: [0.7142857142857143, 0.2857142857142857],\n",
       " 5: [0.3712574850299401, 0.6287425149700598],\n",
       " 3: coefficients: [ 0.  0.  0. -1.  0.  0.]\n",
       " bound: -12.5),\n",
       " 6: [0.5818695106649937, 0.4181304893350063],\n",
       " 7: coefficients: [-1.  0.  0.  0.  0.  0.]\n",
       " bound: -30.5),\n",
       " 14: [0.8002912267928649, 0.19970877320713507],\n",
       " 15: coefficients: [-1.  0.  0.  0.  0.  0.]\n",
       " bound: -26.5),\n",
       " 30: [0.918423464711274, 0.08157653528872594],\n",
       " 31: coefficients: [-1.  0.  0.  0.  0.  0.]\n",
       " bound: -23.5),\n",
       " 62: [0.962987012987013, 0.03701298701298701],\n",
       " 63: coefficients: [ 0.  0. -1.  0.  0.  0.]\n",
       " bound: -2713.5),\n",
       " 126: [0.0, 1.0],\n",
       " 127: coefficients: [ 0.  0. -1.  0.  0.  0.]\n",
       " bound: -1824.5),\n",
       " 254: [0.875, 0.125],\n",
       " 255: [0.125, 0.875]}"
      ]
     },
     "execution_count": 5,
     "metadata": {},
     "output_type": "execute_result"
    }
   ],
   "source": [
    "# nodes inside the tree: dictionary with nodes named in a breadth-first manner\n",
    "tree.nodes"
   ]
  },
  {
   "cell_type": "code",
   "execution_count": 6,
   "id": "ade435db6ddbc990",
   "metadata": {
    "ExecuteTime": {
     "end_time": "2023-12-06T18:08:02.064650643Z",
     "start_time": "2023-12-06T18:08:02.033835928Z"
    },
    "collapsed": false,
    "jupyter": {
     "outputs_hidden": false
    }
   },
   "outputs": [
    {
     "name": "stdout",
     "output_type": "stream",
     "text": [
      "Hyperplane\n",
      "\tcoefficients: [0.0, -1.0, 0.0, 0.0, 0.0, 0.0]\n",
      "\tbound: -7073.5\n"
     ]
    }
   ],
   "source": [
    "# access parameters of internal nodes\n",
    "print(tree.nodes[2].hyperplane)"
   ]
  },
  {
   "cell_type": "code",
   "execution_count": 7,
   "id": "3625999c2a55462",
   "metadata": {
    "ExecuteTime": {
     "end_time": "2023-12-06T18:08:02.073496385Z",
     "start_time": "2023-12-06T18:08:02.052183535Z"
    },
    "collapsed": false,
    "jupyter": {
     "outputs_hidden": false
    }
   },
   "outputs": [
    {
     "name": "stdout",
     "output_type": "stream",
     "text": [
      "descendants: [4, 5, 8, 9, 16, 17, 32, 33, 34, 35, 66, 67, 132, 133, 134, 135] and ancestors: [1]\n"
     ]
    }
   ],
   "source": [
    "# access tree structure, e.g., descendants\n",
    "print(f\"descendants: {tree.descendants[2]} and ancestors: {tree.ancestors[2]}\")  "
   ]
  },
  {
   "cell_type": "markdown",
   "id": "39992081271ee62c",
   "metadata": {
    "collapsed": false,
    "jupyter": {
     "outputs_hidden": false
    }
   },
   "source": [
    "## Validation"
   ]
  },
  {
   "cell_type": "code",
   "execution_count": 8,
   "id": "ca8ed8d71421295a",
   "metadata": {
    "ExecuteTime": {
     "end_time": "2023-12-06T18:08:08.442402201Z",
     "start_time": "2023-12-06T18:08:02.068211933Z"
    },
    "collapsed": false,
    "jupyter": {
     "outputs_hidden": false
    }
   },
   "outputs": [
    {
     "name": "stdout",
     "output_type": "stream",
     "text": [
      "Train report:               precision    recall  f1-score   support\n",
      "\n",
      "           0       0.76      0.82      0.79     22292\n",
      "           1       0.22      0.16      0.19      7012\n",
      "\n",
      "    accuracy                           0.66     29304\n",
      "   macro avg       0.49      0.49      0.49     29304\n",
      "weighted avg       0.63      0.66      0.64     29304\n",
      "\n",
      "Train report:               precision    recall  f1-score   support\n",
      "\n",
      "           0       0.75      0.82      0.78      5574\n",
      "           1       0.20      0.15      0.17      1753\n",
      "\n",
      "    accuracy                           0.66      7327\n",
      "   macro avg       0.48      0.48      0.48      7327\n",
      "weighted avg       0.62      0.66      0.64      7327\n",
      "\n",
      "Test report:               precision    recall  f1-score   support\n",
      "\n",
      "           0       0.75      0.81      0.78      9289\n",
      "           1       0.21      0.15      0.18      2922\n",
      "\n",
      "    accuracy                           0.66     12211\n",
      "   macro avg       0.48      0.48      0.48     12211\n",
      "weighted avg       0.62      0.66      0.64     12211\n",
      "\n"
     ]
    }
   ],
   "source": [
    "from sklearn.metrics import classification_report\n",
    "\n",
    "\n",
    "predicted_train_labels = tree.predict(train_features) \n",
    "predicted_validation_labels = tree.predict(validation_features) \n",
    "predicted_test_labels = tree.predict(test_features)\n",
    "\n",
    "train_report = classification_report(train_labels, predicted_train_labels)\n",
    "validation_report = classification_report(validation_labels, predicted_validation_labels)\n",
    "test_report = classification_report(test_labels, predicted_test_labels)\n",
    "\n",
    "print(f\"Train report: {train_report}\")\n",
    "print(f\"Train report: {validation_report}\")\n",
    "print(f\"Test report: {test_report}\")"
   ]
  },
  {
   "cell_type": "markdown",
   "id": "ccfc4258c5fb60b4",
   "metadata": {
    "collapsed": false,
    "jupyter": {
     "outputs_hidden": false
    }
   },
   "source": [
    "## Pruning\n",
    "Pruning the tree post-training: pruning generates a **new** tree!"
   ]
  },
  {
   "cell_type": "code",
   "execution_count": 9,
   "id": "7e034aa673b9b419",
   "metadata": {
    "ExecuteTime": {
     "end_time": "2023-12-06T18:08:30.885899195Z",
     "start_time": "2023-12-06T18:08:21.969779407Z"
    },
    "collapsed": false,
    "jupyter": {
     "outputs_hidden": false
    }
   },
   "outputs": [
    {
     "name": "stdout",
     "output_type": "stream",
     "text": [
      "Pruning at maximum depth 2\n",
      "Pruning at maximum depth 3\n",
      "Pruning at maximum depth 4\n",
      "Pruning at maximum depth 5\n",
      "Pruning at maximum depth 6\n"
     ]
    }
   ],
   "source": [
    "from ohmt.pruning import DepthGardener\n",
    "\n",
    "pruner = DepthGardener()\n",
    "reports_per_pruning = list()\n",
    "for d in range(2, max(tree.depth.values()) - 1):\n",
    "    print(f\"Pruning at maximum depth {d}\")\n",
    "    pruned_tree = pruner.prune(tree, max_depth=d)\n",
    "    \n",
    "    predicted_train_labels = pruned_tree.predict(train_features) \n",
    "    predicted_validation_labels = pruned_tree.predict(validation_features) \n",
    "    predicted_test_labels = pruned_tree.predict(test_features)\n",
    "    train_report = classification_report(train_labels, predicted_train_labels)\n",
    "    validation_report = classification_report(validation_labels, predicted_validation_labels)\n",
    "    test_report = classification_report(test_labels, predicted_test_labels)\n",
    "    \n",
    "    reports_per_pruning.append((train_report,\n",
    "                                validation_report,\n",
    "                                test_report))"
   ]
  },
  {
   "cell_type": "code",
   "execution_count": 10,
   "id": "c72a3b52be54d951",
   "metadata": {
    "ExecuteTime": {
     "end_time": "2023-12-06T18:08:37.331833270Z",
     "start_time": "2023-12-06T18:08:30.886671759Z"
    },
    "collapsed": false,
    "jupyter": {
     "outputs_hidden": false
    }
   },
   "outputs": [
    {
     "name": "stderr",
     "output_type": "stream",
     "text": [
      "/home/ms/.virtualenvs/ohmt_testing/lib/python3.11/site-packages/sklearn/svm/_base.py:1244: ConvergenceWarning: Liblinear failed to converge, increase the number of iterations.\n",
      "  warnings.warn(\n"
     ]
    }
   ],
   "source": [
    "import numpy\n",
    "from ohmt.pruning import GreedyBottomUpGardener\n",
    "\n",
    "pruner = GreedyBottomUpGardener()\n",
    "pruned_tree = pruner.prune(tree, validation_data=validation_features, validation_labels=validation_labels,\n",
    "                           classes=numpy.array([0, 1]),\n",
    "                           node_fitness_function=gini)\n",
    "\n",
    "predicted_train_labels = pruned_tree.predict(train_features) \n",
    "predicted_validation_labels = pruned_tree.predict(validation_features) \n",
    "predicted_test_labels = pruned_tree.predict(test_features)\n",
    "train_report = classification_report(train_labels, predicted_train_labels)\n",
    "validation_report = classification_report(validation_labels, predicted_validation_labels)\n",
    "test_report = classification_report(test_labels, predicted_test_labels)"
   ]
  },
  {
   "cell_type": "code",
   "execution_count": 11,
   "id": "399be2bb24c36db6",
   "metadata": {
    "ExecuteTime": {
     "end_time": "2023-12-06T18:09:28.992785609Z",
     "start_time": "2023-12-06T18:09:28.973696817Z"
    },
    "collapsed": false,
    "jupyter": {
     "outputs_hidden": false
    }
   },
   "outputs": [
    {
     "name": "stdout",
     "output_type": "stream",
     "text": [
      "              precision    recall  f1-score   support\n",
      "\n",
      "           0       0.80      1.00      0.88      9289\n",
      "           1       0.95      0.19      0.31      2922\n",
      "\n",
      "    accuracy                           0.80     12211\n",
      "   macro avg       0.87      0.59      0.60     12211\n",
      "weighted avg       0.83      0.80      0.75     12211\n",
      "\n"
     ]
    }
   ],
   "source": [
    "print(test_report)"
   ]
  }
 ],
 "metadata": {
  "kernelspec": {
   "display_name": "Python 3 (ipykernel)",
   "language": "python",
   "name": "python3"
  },
  "language_info": {
   "codemirror_mode": {
    "name": "ipython",
    "version": 3
   },
   "file_extension": ".py",
   "mimetype": "text/x-python",
   "name": "python",
   "nbconvert_exporter": "python",
   "pygments_lexer": "ipython3",
   "version": "3.11.6"
  }
 },
 "nbformat": 4,
 "nbformat_minor": 5
}
